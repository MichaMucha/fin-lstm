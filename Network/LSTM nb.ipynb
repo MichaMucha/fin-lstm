{
 "cells": [
  {
   "cell_type": "code",
   "execution_count": 2,
   "metadata": {
    "collapsed": true
   },
   "outputs": [],
   "source": [
    "import pandas as pd\n",
    "import numpy as np\n",
    "import os"
   ]
  },
  {
   "cell_type": "code",
   "execution_count": 3,
   "metadata": {
    "collapsed": false
   },
   "outputs": [],
   "source": [
    "with pd.HDFStore(os.path.join('/', 'root', 'fin_lstm', 'observations.h5')) as store:\n",
    "    observations = store['o']"
   ]
  },
  {
   "cell_type": "code",
   "execution_count": 4,
   "metadata": {
    "collapsed": false
   },
   "outputs": [],
   "source": [
    "# Cols to drop:\n",
    "ctd = ['Open', 'High', 'Low', 'Close', # stock price. Leave volume\n",
    "       'o_id', # id\n",
    "       'COMLND'] # commercial lending index - many NaNs       \n",
    "observations = observations.drop(ctd, axis=1).dropna()\n",
    "\n",
    "# Normalize Volume\n",
    "v = observations['Volume']\n",
    "mi = v.min(); di = v.max() - mi\n",
    "observations['Volume'] = v.apply(lambda t: (t - mi) / di)\n",
    "\n",
    "# Separate labels\n",
    "labels = observations['sig^2'] = observations['sig^2']*100\n",
    "observations['lag_sig^2'] *= 100\n",
    "\n",
    "# Drop labels from observations\n",
    "# observations.drop('sig^2', axis=1, inplace=True)"
   ]
  },
  {
   "cell_type": "code",
   "execution_count": 5,
   "metadata": {
    "collapsed": true
   },
   "outputs": [],
   "source": [
    "# Split into train and validate\n",
    "mark = int(len(observations)*.7)\n",
    "tX = observations[:mark]\n",
    "tY = labels[:mark]\n",
    "vX = observations[mark:]\n",
    "vY = labels[mark:]"
   ]
  },
  {
   "cell_type": "code",
   "execution_count": 6,
   "metadata": {
    "collapsed": true
   },
   "outputs": [],
   "source": [
    "timesteps = 10"
   ]
  },
  {
   "cell_type": "code",
   "execution_count": 51,
   "metadata": {
    "collapsed": false
   },
   "outputs": [
    {
     "data": {
      "text/plain": [
       "(array([[[ 1.25,  1.04,  0.99, ...,  0.  ,  0.  ,  1.  ],\n",
       "         [ 1.27,  1.05,  0.98, ...,  0.  ,  0.  ,  1.  ]],\n",
       " \n",
       "        [[ 1.27,  1.05,  0.98, ...,  0.  ,  0.  ,  1.  ],\n",
       "         [ 1.31,  1.05,  0.96, ...,  0.  ,  0.  ,  1.  ]],\n",
       " \n",
       "        [[ 1.31,  1.05,  0.96, ...,  0.  ,  0.  ,  1.  ],\n",
       "         [ 1.3 ,  1.03,  0.94, ...,  0.  ,  0.  ,  1.  ]],\n",
       " \n",
       "        ..., \n",
       "        [[ 0.75,  0.67,  0.82, ...,  0.  ,  0.  ,  0.  ],\n",
       "         [ 0.75,  0.67,  0.81, ...,  0.  ,  0.  ,  0.  ]],\n",
       " \n",
       "        [[ 0.75,  0.67,  0.81, ...,  0.  ,  0.  ,  0.  ],\n",
       "         [ 0.75,  0.68,  0.81, ...,  0.  ,  0.  ,  0.  ]],\n",
       " \n",
       "        [[ 0.75,  0.68,  0.81, ...,  0.  ,  0.  ,  0.  ],\n",
       "         [ 0.74,  0.69,  0.81, ...,  0.  ,  0.  ,  0.  ]]]),\n",
       " array([ 0.02968029,  0.05076174,  0.01673453, ...,  0.04495117,\n",
       "         0.02677589,  0.07744982]))"
      ]
     },
     "execution_count": 51,
     "metadata": {},
     "output_type": "execute_result"
    }
   ],
   "source": [
    "create_dataset(observations.values, labels.values, 2)"
   ]
  },
  {
   "cell_type": "code",
   "execution_count": 11,
   "metadata": {
    "collapsed": true
   },
   "outputs": [],
   "source": [
    "def create_dataset(dataset, Y, look_back=1):\n",
    "    dataX, dataY = [], []\n",
    "    for i in range(len(dataset)-look_back-1):\n",
    "        a = dataset[i:(i+look_back), :]\n",
    "        dataX.append(a)\n",
    "        dataY.append(Y[i + look_back])\n",
    "    return np.array(dataX), np.array(dataY)"
   ]
  },
  {
   "cell_type": "code",
   "execution_count": 8,
   "metadata": {
    "collapsed": false
   },
   "outputs": [
    {
     "name": "stderr",
     "output_type": "stream",
     "text": [
      "Using TensorFlow backend.\n"
     ]
    }
   ],
   "source": [
    "from keras.models import Sequential\n",
    "from keras.layers import LSTM, Dense\n",
    "from keras.optimizers import RMSprop, SGD, Nadam\n",
    "from keras.callbacks import TensorBoard "
   ]
  },
  {
   "cell_type": "code",
   "execution_count": 9,
   "metadata": {
    "collapsed": false
   },
   "outputs": [],
   "source": [
    "# expected input data shape: (batch_size, timesteps, data_dim)\n",
    "data_dim = tX.values.shape[1]\n",
    "\n",
    "model = Sequential()\n",
    "model.add(LSTM(40, return_sequences=True,\n",
    "               input_shape=(timesteps, data_dim)\n",
    "              ))\n",
    "model.add(LSTM(40, return_sequences=False))\n",
    "model.add(Dense(1))\n",
    "\n",
    "model.compile(loss='msle', optimizer=RMSprop(), metrics=['accuracy'])\n",
    "\n",
    "# TB callback\n",
    "TB = TensorBoard(log_dir='./logs', histogram_freq=0, write_graph=True, write_images=False)"
   ]
  },
  {
   "cell_type": "code",
   "execution_count": null,
   "metadata": {
    "collapsed": false
   },
   "outputs": [
    {
     "name": "stdout",
     "output_type": "stream",
     "text": [
      "Train on 27801 samples, validate on 6951 samples\n",
      "Epoch 1/500\n",
      "14s - loss: 0.0080 - acc: 0.0028 - val_loss: 0.0071 - val_acc: 0.0056\n",
      "Epoch 2/500\n",
      "13s - loss: 0.0062 - acc: 0.0028 - val_loss: 0.0063 - val_acc: 0.0056\n",
      "Epoch 3/500\n",
      "13s - loss: 0.0059 - acc: 0.0028 - val_loss: 0.0108 - val_acc: 0.0056\n",
      "Epoch 4/500\n",
      "13s - loss: 0.0056 - acc: 0.0028 - val_loss: 0.0052 - val_acc: 0.0056\n",
      "Epoch 5/500\n",
      "12s - loss: 0.0055 - acc: 0.0028 - val_loss: 0.0047 - val_acc: 0.0056\n",
      "Epoch 6/500\n",
      "12s - loss: 0.0054 - acc: 0.0028 - val_loss: 0.0050 - val_acc: 0.0056\n",
      "Epoch 7/500\n",
      "13s - loss: 0.0054 - acc: 0.0028 - val_loss: 0.0048 - val_acc: 0.0056\n",
      "Epoch 8/500\n",
      "12s - loss: 0.0054 - acc: 0.0028 - val_loss: 0.0050 - val_acc: 0.0056\n",
      "Epoch 9/500\n",
      "12s - loss: 0.0053 - acc: 0.0028 - val_loss: 0.0055 - val_acc: 0.0056\n",
      "Epoch 10/500\n",
      "13s - loss: 0.0053 - acc: 0.0028 - val_loss: 0.0061 - val_acc: 0.0056\n",
      "Epoch 11/500\n",
      "14s - loss: 0.0053 - acc: 0.0028 - val_loss: 0.0049 - val_acc: 0.0056\n",
      "Epoch 12/500\n",
      "13s - loss: 0.0053 - acc: 0.0028 - val_loss: 0.0054 - val_acc: 0.0056\n",
      "Epoch 13/500\n",
      "13s - loss: 0.0053 - acc: 0.0028 - val_loss: 0.0046 - val_acc: 0.0056\n",
      "Epoch 14/500\n",
      "12s - loss: 0.0053 - acc: 0.0028 - val_loss: 0.0046 - val_acc: 0.0056\n",
      "Epoch 15/500\n",
      "12s - loss: 0.0053 - acc: 0.0028 - val_loss: 0.0061 - val_acc: 0.0056\n",
      "Epoch 16/500\n",
      "12s - loss: 0.0052 - acc: 0.0028 - val_loss: 0.0051 - val_acc: 0.0056\n",
      "Epoch 17/500\n",
      "12s - loss: 0.0052 - acc: 0.0028 - val_loss: 0.0047 - val_acc: 0.0056\n",
      "Epoch 18/500\n",
      "13s - loss: 0.0052 - acc: 0.0028 - val_loss: 0.0048 - val_acc: 0.0056\n",
      "Epoch 19/500\n",
      "12s - loss: 0.0052 - acc: 0.0028 - val_loss: 0.0048 - val_acc: 0.0056\n",
      "Epoch 20/500\n",
      "12s - loss: 0.0052 - acc: 0.0028 - val_loss: 0.0162 - val_acc: 0.0056\n",
      "Epoch 21/500\n",
      "12s - loss: 0.0052 - acc: 0.0028 - val_loss: 0.0047 - val_acc: 0.0056\n",
      "Epoch 22/500\n",
      "13s - loss: 0.0052 - acc: 0.0028 - val_loss: 0.0048 - val_acc: 0.0056\n",
      "Epoch 23/500\n",
      "12s - loss: 0.0052 - acc: 0.0028 - val_loss: 0.0049 - val_acc: 0.0056\n",
      "Epoch 24/500\n",
      "13s - loss: 0.0051 - acc: 0.0028 - val_loss: 0.0061 - val_acc: 0.0056\n",
      "Epoch 25/500\n",
      "14s - loss: 0.0051 - acc: 0.0028 - val_loss: 0.0062 - val_acc: 0.0056\n",
      "Epoch 26/500\n",
      "12s - loss: 0.0051 - acc: 0.0028 - val_loss: 0.0049 - val_acc: 0.0056\n",
      "Epoch 27/500\n",
      "13s - loss: 0.0051 - acc: 0.0028 - val_loss: 0.0048 - val_acc: 0.0056\n",
      "Epoch 28/500\n",
      "13s - loss: 0.0051 - acc: 0.0028 - val_loss: 0.0048 - val_acc: 0.0056\n",
      "Epoch 29/500\n",
      "13s - loss: 0.0051 - acc: 0.0028 - val_loss: 0.0051 - val_acc: 0.0056\n",
      "Epoch 30/500\n",
      "12s - loss: 0.0051 - acc: 0.0028 - val_loss: 0.0071 - val_acc: 0.0056\n",
      "Epoch 31/500\n",
      "12s - loss: 0.0051 - acc: 0.0028 - val_loss: 0.0049 - val_acc: 0.0056\n",
      "Epoch 32/500\n",
      "12s - loss: 0.0051 - acc: 0.0028 - val_loss: 0.0050 - val_acc: 0.0056\n",
      "Epoch 33/500\n",
      "12s - loss: 0.0050 - acc: 0.0028 - val_loss: 0.0049 - val_acc: 0.0056\n",
      "Epoch 34/500\n",
      "12s - loss: 0.0050 - acc: 0.0028 - val_loss: 0.0053 - val_acc: 0.0056\n",
      "Epoch 35/500\n",
      "12s - loss: 0.0050 - acc: 0.0028 - val_loss: 0.0051 - val_acc: 0.0056\n",
      "Epoch 36/500\n",
      "12s - loss: 0.0050 - acc: 0.0028 - val_loss: 0.0051 - val_acc: 0.0056\n",
      "Epoch 37/500\n",
      "12s - loss: 0.0050 - acc: 0.0028 - val_loss: 0.0048 - val_acc: 0.0056\n",
      "Epoch 38/500\n",
      "12s - loss: 0.0050 - acc: 0.0028 - val_loss: 0.0063 - val_acc: 0.0056\n",
      "Epoch 39/500\n",
      "13s - loss: 0.0050 - acc: 0.0028 - val_loss: 0.0056 - val_acc: 0.0056\n",
      "Epoch 40/500\n",
      "13s - loss: 0.0050 - acc: 0.0028 - val_loss: 0.0077 - val_acc: 0.0056\n",
      "Epoch 41/500\n",
      "13s - loss: 0.0050 - acc: 0.0028 - val_loss: 0.0050 - val_acc: 0.0056\n",
      "Epoch 42/500\n",
      "13s - loss: 0.0049 - acc: 0.0028 - val_loss: 0.0051 - val_acc: 0.0056\n",
      "Epoch 43/500\n",
      "12s - loss: 0.0050 - acc: 0.0028 - val_loss: 0.0049 - val_acc: 0.0056\n",
      "Epoch 44/500\n",
      "12s - loss: 0.0049 - acc: 0.0028 - val_loss: 0.0059 - val_acc: 0.0056\n",
      "Epoch 45/500\n",
      "12s - loss: 0.0049 - acc: 0.0028 - val_loss: 0.0048 - val_acc: 0.0056\n",
      "Epoch 46/500\n",
      "12s - loss: 0.0049 - acc: 0.0028 - val_loss: 0.0065 - val_acc: 0.0056\n",
      "Epoch 47/500\n",
      "13s - loss: 0.0049 - acc: 0.0028 - val_loss: 0.0051 - val_acc: 0.0056\n",
      "Epoch 48/500\n",
      "13s - loss: 0.0049 - acc: 0.0028 - val_loss: 0.0059 - val_acc: 0.0056\n",
      "Epoch 49/500\n",
      "12s - loss: 0.0049 - acc: 0.0028 - val_loss: 0.0051 - val_acc: 0.0056\n",
      "Epoch 50/500\n",
      "12s - loss: 0.0049 - acc: 0.0028 - val_loss: 0.0054 - val_acc: 0.0056\n",
      "Epoch 51/500\n",
      "14s - loss: 0.0048 - acc: 0.0028 - val_loss: 0.0051 - val_acc: 0.0056\n",
      "Epoch 52/500\n",
      "17s - loss: 0.0048 - acc: 0.0028 - val_loss: 0.0050 - val_acc: 0.0056\n",
      "Epoch 53/500\n",
      "1394s - loss: 0.0048 - acc: 0.0028 - val_loss: 0.0062 - val_acc: 0.0056\n",
      "Epoch 54/500\n",
      "13s - loss: 0.0048 - acc: 0.0028 - val_loss: 0.0053 - val_acc: 0.0056\n",
      "Epoch 55/500\n",
      "14s - loss: 0.0048 - acc: 0.0028 - val_loss: 0.0052 - val_acc: 0.0056\n",
      "Epoch 56/500\n",
      "13s - loss: 0.0048 - acc: 0.0028 - val_loss: 0.0092 - val_acc: 0.0056\n",
      "Epoch 57/500\n",
      "303s - loss: 0.0047 - acc: 0.0028 - val_loss: 0.0052 - val_acc: 0.0056\n",
      "Epoch 58/500\n",
      "14s - loss: 0.0047 - acc: 0.0028 - val_loss: 0.0063 - val_acc: 0.0056\n",
      "Epoch 59/500\n",
      "12s - loss: 0.0047 - acc: 0.0028 - val_loss: 0.0049 - val_acc: 0.0056\n",
      "Epoch 60/500\n",
      "13s - loss: 0.0047 - acc: 0.0028 - val_loss: 0.0053 - val_acc: 0.0056\n",
      "Epoch 61/500\n",
      "13s - loss: 0.0047 - acc: 0.0028 - val_loss: 0.0050 - val_acc: 0.0056\n",
      "Epoch 62/500\n",
      "196s - loss: 0.0047 - acc: 0.0028 - val_loss: 0.0051 - val_acc: 0.0056\n",
      "Epoch 63/500\n",
      "13s - loss: 0.0047 - acc: 0.0028 - val_loss: 0.0053 - val_acc: 0.0056\n",
      "Epoch 64/500\n",
      "13s - loss: 0.0047 - acc: 0.0028 - val_loss: 0.0050 - val_acc: 0.0056\n",
      "Epoch 65/500\n",
      "12s - loss: 0.0046 - acc: 0.0028 - val_loss: 0.0063 - val_acc: 0.0056\n",
      "Epoch 66/500\n",
      "12s - loss: 0.0046 - acc: 0.0028 - val_loss: 0.0057 - val_acc: 0.0056\n",
      "Epoch 67/500\n",
      "143s - loss: 0.0046 - acc: 0.0028 - val_loss: 0.0051 - val_acc: 0.0056\n",
      "Epoch 68/500\n",
      "13s - loss: 0.0046 - acc: 0.0028 - val_loss: 0.0051 - val_acc: 0.0056\n",
      "Epoch 69/500\n",
      "13s - loss: 0.0046 - acc: 0.0028 - val_loss: 0.0048 - val_acc: 0.0056\n",
      "Epoch 70/500\n",
      "12s - loss: 0.0045 - acc: 0.0028 - val_loss: 0.0054 - val_acc: 0.0056\n",
      "Epoch 71/500\n",
      "13s - loss: 0.0045 - acc: 0.0028 - val_loss: 0.0060 - val_acc: 0.0056\n",
      "Epoch 72/500\n",
      "-433s - loss: 0.0045 - acc: 0.0028 - val_loss: 0.0059 - val_acc: 0.0056\n",
      "Epoch 73/500\n",
      "13s - loss: 0.0045 - acc: 0.0028 - val_loss: 0.0060 - val_acc: 0.0056\n",
      "Epoch 74/500\n",
      "13s - loss: 0.0045 - acc: 0.0028 - val_loss: 0.0053 - val_acc: 0.0056\n",
      "Epoch 75/500\n",
      "13s - loss: 0.0044 - acc: 0.0028 - val_loss: 0.0054 - val_acc: 0.0056\n",
      "Epoch 76/500\n",
      "12s - loss: 0.0045 - acc: 0.0028 - val_loss: 0.0054 - val_acc: 0.0056\n",
      "Epoch 77/500\n",
      "14s - loss: 0.0045 - acc: 0.0028 - val_loss: 0.0054 - val_acc: 0.0056\n",
      "Epoch 78/500\n",
      "12s - loss: 0.0045 - acc: 0.0028 - val_loss: 0.0051 - val_acc: 0.0056\n",
      "Epoch 79/500\n",
      "13s - loss: 0.0044 - acc: 0.0028 - val_loss: 0.0057 - val_acc: 0.0056\n",
      "Epoch 80/500\n",
      "13s - loss: 0.0044 - acc: 0.0028 - val_loss: 0.0053 - val_acc: 0.0056\n",
      "Epoch 81/500\n",
      "12s - loss: 0.0043 - acc: 0.0028 - val_loss: 0.0069 - val_acc: 0.0056\n",
      "Epoch 82/500\n",
      "13s - loss: 0.0044 - acc: 0.0028 - val_loss: 0.0054 - val_acc: 0.0056\n",
      "Epoch 83/500\n",
      "12s - loss: 0.0043 - acc: 0.0028 - val_loss: 0.0057 - val_acc: 0.0056\n",
      "Epoch 84/500\n",
      "12s - loss: 0.0043 - acc: 0.0028 - val_loss: 0.0060 - val_acc: 0.0056\n",
      "Epoch 85/500\n",
      "13s - loss: 0.0043 - acc: 0.0028 - val_loss: 0.0055 - val_acc: 0.0056\n",
      "Epoch 86/500\n",
      "13s - loss: 0.0043 - acc: 0.0028 - val_loss: 0.0052 - val_acc: 0.0056\n",
      "Epoch 87/500\n",
      "12s - loss: 0.0043 - acc: 0.0028 - val_loss: 0.0051 - val_acc: 0.0056\n",
      "Epoch 88/500\n",
      "13s - loss: 0.0043 - acc: 0.0028 - val_loss: 0.0050 - val_acc: 0.0056\n",
      "Epoch 89/500\n",
      "13s - loss: 0.0043 - acc: 0.0028 - val_loss: 0.0049 - val_acc: 0.0056\n",
      "Epoch 90/500\n",
      "12s - loss: 0.0042 - acc: 0.0028 - val_loss: 0.0053 - val_acc: 0.0056\n",
      "Epoch 91/500\n",
      "13s - loss: 0.0043 - acc: 0.0028 - val_loss: 0.0054 - val_acc: 0.0056\n",
      "Epoch 92/500\n",
      "15s - loss: 0.0042 - acc: 0.0028 - val_loss: 0.0082 - val_acc: 0.0056\n",
      "Epoch 93/500\n",
      "13s - loss: 0.0043 - acc: 0.0028 - val_loss: 0.0062 - val_acc: 0.0056\n",
      "Epoch 94/500\n",
      "13s - loss: 0.0042 - acc: 0.0028 - val_loss: 0.0056 - val_acc: 0.0056\n",
      "Epoch 95/500\n",
      "13s - loss: 0.0042 - acc: 0.0028 - val_loss: 0.0075 - val_acc: 0.0056\n",
      "Epoch 96/500\n",
      "13s - loss: 0.0042 - acc: 0.0028 - val_loss: 0.0053 - val_acc: 0.0056\n",
      "Epoch 97/500\n",
      "14s - loss: 0.0041 - acc: 0.0028 - val_loss: 0.0062 - val_acc: 0.0056\n",
      "Epoch 98/500\n",
      "18s - loss: 0.0042 - acc: 0.0028 - val_loss: 0.0051 - val_acc: 0.0056\n",
      "Epoch 99/500\n",
      "12s - loss: 0.0041 - acc: 0.0028 - val_loss: 0.0050 - val_acc: 0.0056\n",
      "Epoch 100/500\n",
      "12s - loss: 0.0041 - acc: 0.0028 - val_loss: 0.0058 - val_acc: 0.0056\n",
      "Epoch 101/500\n",
      "15s - loss: 0.0041 - acc: 0.0028 - val_loss: 0.0059 - val_acc: 0.0056\n",
      "Epoch 102/500\n",
      "16s - loss: 0.0041 - acc: 0.0028 - val_loss: 0.0057 - val_acc: 0.0056\n",
      "Epoch 103/500\n",
      "15s - loss: 0.0040 - acc: 0.0028 - val_loss: 0.0055 - val_acc: 0.0056\n",
      "Epoch 104/500\n",
      "14s - loss: 0.0041 - acc: 0.0028 - val_loss: 0.0067 - val_acc: 0.0056\n",
      "Epoch 105/500\n",
      "16s - loss: 0.0040 - acc: 0.0028 - val_loss: 0.0071 - val_acc: 0.0056\n",
      "Epoch 106/500\n",
      "14s - loss: 0.0041 - acc: 0.0028 - val_loss: 0.0054 - val_acc: 0.0056\n",
      "Epoch 107/500\n",
      "15s - loss: 0.0040 - acc: 0.0028 - val_loss: 0.0054 - val_acc: 0.0056\n",
      "Epoch 108/500\n",
      "14s - loss: 0.0040 - acc: 0.0028 - val_loss: 0.0065 - val_acc: 0.0056\n",
      "Epoch 109/500\n",
      "14s - loss: 0.0039 - acc: 0.0028 - val_loss: 0.0054 - val_acc: 0.0056\n",
      "Epoch 110/500\n",
      "14s - loss: 0.0040 - acc: 0.0028 - val_loss: 0.0057 - val_acc: 0.0056\n",
      "Epoch 111/500\n",
      "14s - loss: 0.0039 - acc: 0.0028 - val_loss: 0.0054 - val_acc: 0.0056\n",
      "Epoch 112/500\n",
      "14s - loss: 0.0040 - acc: 0.0028 - val_loss: 0.0054 - val_acc: 0.0056\n",
      "Epoch 113/500\n",
      "14s - loss: 0.0039 - acc: 0.0028 - val_loss: 0.0059 - val_acc: 0.0056\n",
      "Epoch 114/500\n",
      "14s - loss: 0.0039 - acc: 0.0028 - val_loss: 0.0056 - val_acc: 0.0056\n",
      "Epoch 115/500\n",
      "14s - loss: 0.0039 - acc: 0.0028 - val_loss: 0.0054 - val_acc: 0.0056\n",
      "Epoch 116/500\n",
      "16s - loss: 0.0038 - acc: 0.0028 - val_loss: 0.0056 - val_acc: 0.0056\n",
      "Epoch 117/500\n",
      "13s - loss: 0.0039 - acc: 0.0028 - val_loss: 0.0055 - val_acc: 0.0056\n",
      "Epoch 118/500\n",
      "15s - loss: 0.0039 - acc: 0.0028 - val_loss: 0.0054 - val_acc: 0.0056\n",
      "Epoch 119/500\n",
      "13s - loss: 0.0038 - acc: 0.0028 - val_loss: 0.0055 - val_acc: 0.0056\n",
      "Epoch 120/500\n",
      "14s - loss: 0.0038 - acc: 0.0028 - val_loss: 0.0055 - val_acc: 0.0056\n",
      "Epoch 121/500\n",
      "14s - loss: 0.0038 - acc: 0.0028 - val_loss: 0.0084 - val_acc: 0.0056\n",
      "Epoch 122/500\n",
      "15s - loss: 0.0038 - acc: 0.0028 - val_loss: 0.0058 - val_acc: 0.0056\n",
      "Epoch 123/500\n",
      "16s - loss: 0.0038 - acc: 0.0028 - val_loss: 0.0057 - val_acc: 0.0056\n",
      "Epoch 124/500\n",
      "14s - loss: 0.0038 - acc: 0.0028 - val_loss: 0.0057 - val_acc: 0.0056\n",
      "Epoch 125/500\n",
      "14s - loss: 0.0038 - acc: 0.0028 - val_loss: 0.0058 - val_acc: 0.0056\n",
      "Epoch 126/500\n",
      "13s - loss: 0.0037 - acc: 0.0028 - val_loss: 0.0058 - val_acc: 0.0056\n",
      "Epoch 127/500\n",
      "15s - loss: 0.0037 - acc: 0.0028 - val_loss: 0.0076 - val_acc: 0.0056\n",
      "Epoch 128/500\n",
      "13s - loss: 0.0037 - acc: 0.0028 - val_loss: 0.0070 - val_acc: 0.0056\n",
      "Epoch 129/500\n",
      "13s - loss: 0.0036 - acc: 0.0028 - val_loss: 0.0103 - val_acc: 0.0056\n",
      "Epoch 130/500\n",
      "13s - loss: 0.0036 - acc: 0.0028 - val_loss: 0.0057 - val_acc: 0.0056\n",
      "Epoch 131/500\n",
      "15s - loss: 0.0037 - acc: 0.0028 - val_loss: 0.0065 - val_acc: 0.0056\n",
      "Epoch 132/500\n",
      "16s - loss: 0.0037 - acc: 0.0028 - val_loss: 0.0060 - val_acc: 0.0056\n",
      "Epoch 133/500\n",
      "15s - loss: 0.0036 - acc: 0.0028 - val_loss: 0.0079 - val_acc: 0.0056\n",
      "Epoch 134/500\n",
      "15s - loss: 0.0036 - acc: 0.0028 - val_loss: 0.0056 - val_acc: 0.0056\n",
      "Epoch 135/500\n",
      "15s - loss: 0.0036 - acc: 0.0028 - val_loss: 0.0069 - val_acc: 0.0056\n",
      "Epoch 136/500\n",
      "15s - loss: 0.0036 - acc: 0.0028 - val_loss: 0.0059 - val_acc: 0.0056\n",
      "Epoch 137/500\n",
      "14s - loss: 0.0036 - acc: 0.0028 - val_loss: 0.0069 - val_acc: 0.0056\n",
      "Epoch 138/500\n"
     ]
    }
   ],
   "source": [
    "model.fit(*create_dataset(observations.values, labels.values, timesteps),\n",
    "          batch_size=50, nb_epoch=500, verbose=2,\n",
    "          validation_split=.2,\n",
    "          shuffle=True,\n",
    "          callbacks=[TB])"
   ]
  },
  {
   "cell_type": "code",
   "execution_count": null,
   "metadata": {
    "collapsed": true
   },
   "outputs": [],
   "source": []
  },
  {
   "cell_type": "code",
   "execution_count": null,
   "metadata": {
    "collapsed": false
   },
   "outputs": [],
   "source": [
    "model.evaluate(*create_dataset(observations.values, labels.values, 1), batch_size=10, verbose=1)"
   ]
  },
  {
   "cell_type": "code",
   "execution_count": null,
   "metadata": {
    "collapsed": true
   },
   "outputs": [],
   "source": []
  }
 ],
 "metadata": {
  "kernelspec": {
   "display_name": "Python 3",
   "language": "python",
   "name": "python3"
  },
  "language_info": {
   "codemirror_mode": {
    "name": "ipython",
    "version": 3
   },
   "file_extension": ".py",
   "mimetype": "text/x-python",
   "name": "python",
   "nbconvert_exporter": "python",
   "pygments_lexer": "ipython3",
   "version": "3.5.2+"
  }
 },
 "nbformat": 4,
 "nbformat_minor": 1
}
